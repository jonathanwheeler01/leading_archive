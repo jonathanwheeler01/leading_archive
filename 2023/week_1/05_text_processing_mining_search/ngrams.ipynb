{
 "cells": [
  {
   "cell_type": "markdown",
   "metadata": {
    "id": "0b-fm_E0fcp3"
   },
   "source": [
    "This notebook demonstrates n-grams. First, we intialize the tokenizer and import its dependencies."
   ]
  },
  {
   "cell_type": "code",
   "execution_count": null,
   "metadata": {
    "colab": {
     "base_uri": "https://localhost:8080/"
    },
    "id": "HxSTBQfifJ2e",
    "outputId": "e86cc002-a6e5-4ff8-be47-402f89d685a8"
   },
   "outputs": [
    {
     "name": "stderr",
     "output_type": "stream",
     "text": [
      "[nltk_data] Downloading package punkt to /root/nltk_data...\n",
      "[nltk_data]   Package punkt is already up-to-date!\n"
     ]
    }
   ],
   "source": [
    "import nltk\n",
    "nltk.download('punkt')\n",
    "from nltk.tokenize import word_tokenize\n",
    "from nltk import ngrams"
   ]
  },
  {
   "cell_type": "markdown",
   "metadata": {
    "id": "8sFLD4WGfW9M"
   },
   "source": [
    "Next we define and tokenize the document.\n"
   ]
  },
  {
   "cell_type": "code",
   "execution_count": null,
   "metadata": {
    "colab": {
     "base_uri": "https://localhost:8080/"
    },
    "id": "-RFT1Xv-fX0d",
    "outputId": "752ce4fa-8e12-49a8-a24d-cb3ebcdf11e1"
   },
   "outputs": [
    {
     "data": {
      "text/plain": [
       "['The', 'quick', 'brown', 'fox', 'jumped', 'over', 'the', 'lazy', 'dog', '.']"
      ]
     },
     "execution_count": 3,
     "metadata": {},
     "output_type": "execute_result"
    }
   ],
   "source": [
    "doc = \"The quick brown fox jumped over the lazy dog.\"\n",
    "tokens = nltk.word_tokenize(doc)\n",
    "tokens"
   ]
  },
  {
   "cell_type": "markdown",
   "metadata": {
    "id": "vDsXeyR2fmGJ"
   },
   "source": [
    "From this list of tokens, we can create n-grams, in this case, 2-grams (bi-grams) or 3-grams (tri-grams)."
   ]
  },
  {
   "cell_type": "code",
   "execution_count": null,
   "metadata": {
    "colab": {
     "base_uri": "https://localhost:8080/"
    },
    "id": "F4C_xm6XfoMw",
    "outputId": "6b0e015a-8dc1-467e-86fa-0dd7c2033ac8"
   },
   "outputs": [
    {
     "data": {
      "text/plain": [
       "<generator object trigrams at 0x7f72e2e167a0>"
      ]
     },
     "execution_count": 7,
     "metadata": {},
     "output_type": "execute_result"
    }
   ],
   "source": [
    "bigram = nltk.bigrams(tokens)\n",
    "trigram = nltk.trigrams(tokens)\n",
    "trigram"
   ]
  },
  {
   "cell_type": "markdown",
   "metadata": {
    "id": "F9PSV5aLf79V"
   },
   "source": [
    "It is useful to observe the difference between the results of the bigram vs. trigram functions."
   ]
  },
  {
   "cell_type": "code",
   "execution_count": null,
   "metadata": {
    "colab": {
     "base_uri": "https://localhost:8080/"
    },
    "id": "Dun_jAJEf-r1",
    "outputId": "9acd8cfc-2643-4fbe-9ab1-1b7dcf868678"
   },
   "outputs": [
    {
     "name": "stdout",
     "output_type": "stream",
     "text": [
      "The quick| quick brown| brown fox| fox jumped| jumped over| over the| the lazy| lazy dog| dog .\n",
      "The quick brown, quick brown fox, brown fox jumped, fox jumped over, jumped over the, over the lazy, the lazy dog, lazy dog .\n"
     ]
    }
   ],
   "source": [
    "print(*map(' '.join, bigram), sep='| ')\n",
    "print(*map(' '.join, trigram), sep=', ')"
   ]
  },
  {
   "cell_type": "markdown",
   "metadata": {
    "id": "0bUXGxMpgVBT"
   },
   "source": [
    "Beyond bi- and tri-grams, we can create \"`grams`\" with any number of words per item. n-grams can be created with a splitting procedure."
   ]
  },
  {
   "cell_type": "code",
   "execution_count": null,
   "metadata": {
    "colab": {
     "base_uri": "https://localhost:8080/"
    },
    "id": "fIZLy7jqgcFF",
    "outputId": "041b1c9d-4f4a-42b1-c0eb-6b73a9181d34"
   },
   "outputs": [
    {
     "name": "stdout",
     "output_type": "stream",
     "text": [
      "The quick brown fox jumped || quick brown fox jumped over || brown fox jumped over the || fox jumped over the lazy || jumped over the lazy dog.\n"
     ]
    }
   ],
   "source": [
    "n = 5\n",
    "fivegrams = ngrams(doc.split(), n)\n",
    "\n",
    "# Rejoin:\n",
    "print(*map(' '.join, fivegrams), sep=' || ')"
   ]
  }
 ],
 "metadata": {
  "colab": {
   "provenance": []
  },
  "kernelspec": {
   "display_name": "Python 3 (ipykernel)",
   "language": "python",
   "name": "python3"
  },
  "language_info": {
   "codemirror_mode": {
    "name": "ipython",
    "version": 3
   },
   "file_extension": ".py",
   "mimetype": "text/x-python",
   "name": "python",
   "nbconvert_exporter": "python",
   "pygments_lexer": "ipython3",
   "version": "3.9.18"
  }
 },
 "nbformat": 4,
 "nbformat_minor": 4
}
