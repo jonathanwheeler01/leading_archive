{
 "cells": [
  {
   "cell_type": "markdown",
   "metadata": {
    "id": "jc_bkhadlCpy"
   },
   "source": [
    "Regular Expressions are a powerful paradigm for extracting text from and searching documents. To use them in Python, we must first import the built-in regular expressions module."
   ]
  },
  {
   "cell_type": "code",
   "execution_count": null,
   "metadata": {
    "id": "ryHpwMm-lAIE"
   },
   "outputs": [],
   "source": [
    "import re"
   ]
  },
  {
   "cell_type": "markdown",
   "metadata": {
    "id": "vlKZV1K0lG4b"
   },
   "source": [
    "Let's define the text of a document for which we can utilize Regular Expressions (RegExes)."
   ]
  },
  {
   "cell_type": "code",
   "execution_count": null,
   "metadata": {
    "colab": {
     "base_uri": "https://localhost:8080/",
     "height": 35
    },
    "id": "6FzdK2IIlQsI",
    "outputId": "469c5ba9-81e8-4634-ae4e-75d95ba0a8f3"
   },
   "outputs": [
    {
     "data": {
      "application/vnd.google.colaboratory.intrinsic+json": {
       "type": "string"
      },
      "text/plain": [
       "'We are what we pretend to be, so we must be careful about what we pretend to be.'"
      ]
     },
     "execution_count": 6,
     "metadata": {},
     "output_type": "execute_result"
    }
   ],
   "source": [
    "doc = 'We are what we pretend to be, so we must be careful about what we pretend to be.'\n",
    "doc"
   ]
  },
  {
   "cell_type": "markdown",
   "metadata": {
    "id": "Qg44-PUFlWCl"
   },
   "source": [
    "If we want to extract the instances of \"we \" from the document (the word \"we\" with a following space\", we can compile and use a regex to find instances of \"we \"."
   ]
  },
  {
   "cell_type": "code",
   "execution_count": null,
   "metadata": {
    "colab": {
     "base_uri": "https://localhost:8080/"
    },
    "id": "1RE8nyJrlbUD",
    "outputId": "64c3529e-b9d9-4ce1-aff0-263632386552"
   },
   "outputs": [
    {
     "data": {
      "text/plain": [
       "['we ', 'we ', 'we ']"
      ]
     },
     "execution_count": 7,
     "metadata": {},
     "output_type": "execute_result"
    }
   ],
   "source": [
    "my_regex = re.compile(r'we\\s')\n",
    "my_regex.findall(doc)"
   ]
  },
  {
   "cell_type": "markdown",
   "metadata": {
    "id": "KPgin3zOnDDa"
   },
   "source": [
    "Note initial \"We\" is not located. This is due to case sensitivity and can be mitigated with a flag.\n"
   ]
  },
  {
   "cell_type": "code",
   "execution_count": null,
   "metadata": {
    "colab": {
     "base_uri": "https://localhost:8080/"
    },
    "id": "OjlL4PdEnNqe",
    "outputId": "7ec57893-ed8a-4ebe-c4c8-454058781e91"
   },
   "outputs": [
    {
     "data": {
      "text/plain": [
       "['We ', 'we ', 'we ', 'we ']"
      ]
     },
     "execution_count": 8,
     "metadata": {},
     "output_type": "execute_result"
    }
   ],
   "source": [
    "my_regex = re.compile(r'we\\s', re.I)\n",
    "my_regex.findall(doc)"
   ]
  },
  {
   "cell_type": "markdown",
   "metadata": {
    "id": "Y68VscBgnUM-"
   },
   "source": [
    "Python has two primitive searching operations, search and match. The latter only checks for a match from the beginning of the input string."
   ]
  },
  {
   "cell_type": "code",
   "execution_count": null,
   "metadata": {
    "colab": {
     "base_uri": "https://localhost:8080/",
     "height": 87
    },
    "id": "a61U6IZrnoqN",
    "outputId": "2f3857ab-c36a-4a88-a97a-7f7a845409b9"
   },
   "outputs": [
    {
     "name": "stdout",
     "output_type": "stream",
     "text": [
      "Match result 1: None\n",
      "Search result: <re.Match object; span=(44, 51), match='careful'>\n",
      "Match result 2: <re.Match object; span=(0, 2), match='We'>\n"
     ]
    },
    {
     "data": {
      "application/vnd.google.colaboratory.intrinsic+json": {
       "type": "string"
      },
      "text/plain": [
       "'We are what we pretend to be, so we must be careful about what we pretend to be.'"
      ]
     },
     "execution_count": 14,
     "metadata": {},
     "output_type": "execute_result"
    }
   ],
   "source": [
    "match_matches = re.match('what', doc)\n",
    "search_matches = re.search('careful', doc, flags=re.I)\n",
    "match_matches2 = re.match('We', doc)\n",
    "\n",
    "print(f'Match result 1: {match_matches}')\n",
    "print(f'Search result: {search_matches}')\n",
    "print(f'Match result 2: {match_matches2}')\n",
    "\n",
    "doc"
   ]
  }
 ],
 "metadata": {
  "colab": {
   "provenance": []
  },
  "kernelspec": {
   "display_name": "Python 3 (ipykernel)",
   "language": "python",
   "name": "python3"
  },
  "language_info": {
   "codemirror_mode": {
    "name": "ipython",
    "version": 3
   },
   "file_extension": ".py",
   "mimetype": "text/x-python",
   "name": "python",
   "nbconvert_exporter": "python",
   "pygments_lexer": "ipython3",
   "version": "3.9.18"
  }
 },
 "nbformat": 4,
 "nbformat_minor": 4
}
